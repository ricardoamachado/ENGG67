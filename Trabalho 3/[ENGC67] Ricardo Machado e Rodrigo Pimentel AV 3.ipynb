{
  "cells": [
    {
      "cell_type": "markdown",
      "id": "c0bf539d",
      "metadata": {
        "id": "c0bf539d"
      },
      "source": [
        "#### **Universidade Federal da Bahia.**\n",
        "#### **Departamento de Eng. Elétrica e Computação**\n",
        "#### **Avaliação 3 - Introdução ao Aprendizado de Máquina**\n",
        "#### Semestre: 2023.2\n",
        "#### Alunos : Ricardo Machado e Rodrigo Pimentel"
      ]
    },
    {
      "cell_type": "markdown",
      "id": "3c2817ca",
      "metadata": {
        "id": "3c2817ca"
      },
      "source": [
        "### Resumo:"
      ]
    },
    {
      "cell_type": "markdown",
      "id": "ddb337b5",
      "metadata": {
        "id": "ddb337b5"
      },
      "source": [
        "### Questão 1: Escolha uma tarefa de classificação ou regressão que possa ser abordada utilizando Perceptrons Multicamadas (MLPs). Selecione um conjunto de dados apropriado (sugestões em https://archive.ics.uci.edu/). Projete e treine uma rede MLP de duas camadas para resolver a tarefa desejada. Utilize o método de validação cruzada k-fold para avaliar o treinamento do modelo."
      ]
    },
    {
      "cell_type": "code",
      "execution_count": 16,
      "id": "2bd1a167",
      "metadata": {
        "id": "2bd1a167"
      },
      "outputs": [],
      "source": [
        "#Importação de bibliotecas utilizadas no trabalho.\n",
        "import pandas as pd\n",
        "import numpy as np\n",
        "import matplotlib.pyplot as plt\n",
        "import seaborn as sns\n",
        "from sklearn.datasets import load_iris\n",
        "from sklearn.decomposition import PCA\n",
        "from sklearn.model_selection import train_test_split\n",
        "from sklearn.preprocessing import MinMaxScaler, LabelEncoder\n",
        "from sklearn.model_selection import cross_val_score, GridSearchCV\n",
        "from sklearn.neural_network import MLPClassifier\n",
        "from sklearn.datasets import make_classification\n",
        "from sklearn.dummy import DummyClassifier\n",
        "from sklearn.metrics import confusion_matrix, accuracy_score, f1_score, mean_squared_error\n",
        "\n",
        "plt.style.use(\"ggplot\")\n",
        "plt.rcParams['figure.figsize'] = [8, 6]"
      ]
    },
    {
      "cell_type": "markdown",
      "source": [
        "#### Carregamento do banco de dados."
      ],
      "metadata": {
        "id": "NiR2fRGeyUAN"
      },
      "id": "NiR2fRGeyUAN"
    },
    {
      "cell_type": "markdown",
      "source": [
        "O banco de dados utilizado contém 3810 instâncias de imagens de grãos de arroz de duas espécies diferentes: Cammeo e Osmancik.\n",
        "\n",
        "Os atributos preditivos do conjunto de dados são: Área, Perímetro, Comprimento do Eixo Maior, Comprimento do Eixo Menor, Excentricidade, Área Convexa e Extensão."
      ],
      "metadata": {
        "id": "1BtfAtxVi7KA"
      },
      "id": "1BtfAtxVi7KA"
    },
    {
      "cell_type": "code",
      "execution_count": 2,
      "id": "509bc45e",
      "metadata": {
        "colab": {
          "base_uri": "https://localhost:8080/"
        },
        "id": "509bc45e",
        "outputId": "c56b30f1-1637-4c76-becd-08321ad7450e"
      },
      "outputs": [
        {
          "output_type": "stream",
          "name": "stdout",
          "text": [
            "Collecting ucimlrepo\n",
            "  Downloading ucimlrepo-0.0.3-py3-none-any.whl (7.0 kB)\n",
            "Installing collected packages: ucimlrepo\n",
            "Successfully installed ucimlrepo-0.0.3\n"
          ]
        }
      ],
      "source": [
        "!pip3 install -U ucimlrepo"
      ]
    },
    {
      "cell_type": "code",
      "execution_count": 3,
      "id": "48eb60cd",
      "metadata": {
        "id": "48eb60cd"
      },
      "outputs": [],
      "source": [
        "#Banco de dados utilizado. https://archive.ics.uci.edu/dataset/545/rice+cammeo+and+osmancik\n",
        "from ucimlrepo import fetch_ucirepo\n",
        "rice_cammeo_and_osmancik = fetch_ucirepo(id=545)\n",
        "X = rice_cammeo_and_osmancik.data.features\n",
        "y = rice_cammeo_and_osmancik.data.targets\n",
        "df = pd.concat([X, y], axis=1)\n"
      ]
    },
    {
      "cell_type": "markdown",
      "id": "c2090cda",
      "metadata": {
        "id": "c2090cda"
      },
      "source": [
        "#### Análise e pré-processamento de dados."
      ]
    },
    {
      "cell_type": "code",
      "execution_count": 4,
      "id": "973d6c9b",
      "metadata": {
        "colab": {
          "base_uri": "https://localhost:8080/",
          "height": 300
        },
        "id": "973d6c9b",
        "outputId": "64c5fa96-d605-413d-e842-d519a7f72202"
      },
      "outputs": [
        {
          "output_type": "execute_result",
          "data": {
            "text/plain": [
              "               Area    Perimeter  Major_Axis_Length  Minor_Axis_Length  \\\n",
              "count   3810.000000  3810.000000        3810.000000        3810.000000   \n",
              "mean   12667.727559   454.239180         188.776222          86.313750   \n",
              "std     1732.367706    35.597081          17.448679           5.729817   \n",
              "min     7551.000000   359.100006         145.264465          59.532406   \n",
              "25%    11370.500000   426.144752         174.353855          82.731695   \n",
              "50%    12421.500000   448.852493         185.810059          86.434647   \n",
              "75%    13950.000000   483.683746         203.550438          90.143677   \n",
              "max    18913.000000   548.445984         239.010498         107.542450   \n",
              "\n",
              "       Eccentricity   Convex_Area       Extent  \n",
              "count   3810.000000   3810.000000  3810.000000  \n",
              "mean       0.886871  12952.496850     0.661934  \n",
              "std        0.020818   1776.972042     0.077239  \n",
              "min        0.777233   7723.000000     0.497413  \n",
              "25%        0.872402  11626.250000     0.598862  \n",
              "50%        0.889050  12706.500000     0.645361  \n",
              "75%        0.902588  14284.000000     0.726562  \n",
              "max        0.948007  19099.000000     0.861050  "
            ],
            "text/html": [
              "\n",
              "  <div id=\"df-a305ee14-9512-430a-92ac-abe4b3632100\" class=\"colab-df-container\">\n",
              "    <div>\n",
              "<style scoped>\n",
              "    .dataframe tbody tr th:only-of-type {\n",
              "        vertical-align: middle;\n",
              "    }\n",
              "\n",
              "    .dataframe tbody tr th {\n",
              "        vertical-align: top;\n",
              "    }\n",
              "\n",
              "    .dataframe thead th {\n",
              "        text-align: right;\n",
              "    }\n",
              "</style>\n",
              "<table border=\"1\" class=\"dataframe\">\n",
              "  <thead>\n",
              "    <tr style=\"text-align: right;\">\n",
              "      <th></th>\n",
              "      <th>Area</th>\n",
              "      <th>Perimeter</th>\n",
              "      <th>Major_Axis_Length</th>\n",
              "      <th>Minor_Axis_Length</th>\n",
              "      <th>Eccentricity</th>\n",
              "      <th>Convex_Area</th>\n",
              "      <th>Extent</th>\n",
              "    </tr>\n",
              "  </thead>\n",
              "  <tbody>\n",
              "    <tr>\n",
              "      <th>count</th>\n",
              "      <td>3810.000000</td>\n",
              "      <td>3810.000000</td>\n",
              "      <td>3810.000000</td>\n",
              "      <td>3810.000000</td>\n",
              "      <td>3810.000000</td>\n",
              "      <td>3810.000000</td>\n",
              "      <td>3810.000000</td>\n",
              "    </tr>\n",
              "    <tr>\n",
              "      <th>mean</th>\n",
              "      <td>12667.727559</td>\n",
              "      <td>454.239180</td>\n",
              "      <td>188.776222</td>\n",
              "      <td>86.313750</td>\n",
              "      <td>0.886871</td>\n",
              "      <td>12952.496850</td>\n",
              "      <td>0.661934</td>\n",
              "    </tr>\n",
              "    <tr>\n",
              "      <th>std</th>\n",
              "      <td>1732.367706</td>\n",
              "      <td>35.597081</td>\n",
              "      <td>17.448679</td>\n",
              "      <td>5.729817</td>\n",
              "      <td>0.020818</td>\n",
              "      <td>1776.972042</td>\n",
              "      <td>0.077239</td>\n",
              "    </tr>\n",
              "    <tr>\n",
              "      <th>min</th>\n",
              "      <td>7551.000000</td>\n",
              "      <td>359.100006</td>\n",
              "      <td>145.264465</td>\n",
              "      <td>59.532406</td>\n",
              "      <td>0.777233</td>\n",
              "      <td>7723.000000</td>\n",
              "      <td>0.497413</td>\n",
              "    </tr>\n",
              "    <tr>\n",
              "      <th>25%</th>\n",
              "      <td>11370.500000</td>\n",
              "      <td>426.144752</td>\n",
              "      <td>174.353855</td>\n",
              "      <td>82.731695</td>\n",
              "      <td>0.872402</td>\n",
              "      <td>11626.250000</td>\n",
              "      <td>0.598862</td>\n",
              "    </tr>\n",
              "    <tr>\n",
              "      <th>50%</th>\n",
              "      <td>12421.500000</td>\n",
              "      <td>448.852493</td>\n",
              "      <td>185.810059</td>\n",
              "      <td>86.434647</td>\n",
              "      <td>0.889050</td>\n",
              "      <td>12706.500000</td>\n",
              "      <td>0.645361</td>\n",
              "    </tr>\n",
              "    <tr>\n",
              "      <th>75%</th>\n",
              "      <td>13950.000000</td>\n",
              "      <td>483.683746</td>\n",
              "      <td>203.550438</td>\n",
              "      <td>90.143677</td>\n",
              "      <td>0.902588</td>\n",
              "      <td>14284.000000</td>\n",
              "      <td>0.726562</td>\n",
              "    </tr>\n",
              "    <tr>\n",
              "      <th>max</th>\n",
              "      <td>18913.000000</td>\n",
              "      <td>548.445984</td>\n",
              "      <td>239.010498</td>\n",
              "      <td>107.542450</td>\n",
              "      <td>0.948007</td>\n",
              "      <td>19099.000000</td>\n",
              "      <td>0.861050</td>\n",
              "    </tr>\n",
              "  </tbody>\n",
              "</table>\n",
              "</div>\n",
              "    <div class=\"colab-df-buttons\">\n",
              "\n",
              "  <div class=\"colab-df-container\">\n",
              "    <button class=\"colab-df-convert\" onclick=\"convertToInteractive('df-a305ee14-9512-430a-92ac-abe4b3632100')\"\n",
              "            title=\"Convert this dataframe to an interactive table.\"\n",
              "            style=\"display:none;\">\n",
              "\n",
              "  <svg xmlns=\"http://www.w3.org/2000/svg\" height=\"24px\" viewBox=\"0 -960 960 960\">\n",
              "    <path d=\"M120-120v-720h720v720H120Zm60-500h600v-160H180v160Zm220 220h160v-160H400v160Zm0 220h160v-160H400v160ZM180-400h160v-160H180v160Zm440 0h160v-160H620v160ZM180-180h160v-160H180v160Zm440 0h160v-160H620v160Z\"/>\n",
              "  </svg>\n",
              "    </button>\n",
              "\n",
              "  <style>\n",
              "    .colab-df-container {\n",
              "      display:flex;\n",
              "      gap: 12px;\n",
              "    }\n",
              "\n",
              "    .colab-df-convert {\n",
              "      background-color: #E8F0FE;\n",
              "      border: none;\n",
              "      border-radius: 50%;\n",
              "      cursor: pointer;\n",
              "      display: none;\n",
              "      fill: #1967D2;\n",
              "      height: 32px;\n",
              "      padding: 0 0 0 0;\n",
              "      width: 32px;\n",
              "    }\n",
              "\n",
              "    .colab-df-convert:hover {\n",
              "      background-color: #E2EBFA;\n",
              "      box-shadow: 0px 1px 2px rgba(60, 64, 67, 0.3), 0px 1px 3px 1px rgba(60, 64, 67, 0.15);\n",
              "      fill: #174EA6;\n",
              "    }\n",
              "\n",
              "    .colab-df-buttons div {\n",
              "      margin-bottom: 4px;\n",
              "    }\n",
              "\n",
              "    [theme=dark] .colab-df-convert {\n",
              "      background-color: #3B4455;\n",
              "      fill: #D2E3FC;\n",
              "    }\n",
              "\n",
              "    [theme=dark] .colab-df-convert:hover {\n",
              "      background-color: #434B5C;\n",
              "      box-shadow: 0px 1px 3px 1px rgba(0, 0, 0, 0.15);\n",
              "      filter: drop-shadow(0px 1px 2px rgba(0, 0, 0, 0.3));\n",
              "      fill: #FFFFFF;\n",
              "    }\n",
              "  </style>\n",
              "\n",
              "    <script>\n",
              "      const buttonEl =\n",
              "        document.querySelector('#df-a305ee14-9512-430a-92ac-abe4b3632100 button.colab-df-convert');\n",
              "      buttonEl.style.display =\n",
              "        google.colab.kernel.accessAllowed ? 'block' : 'none';\n",
              "\n",
              "      async function convertToInteractive(key) {\n",
              "        const element = document.querySelector('#df-a305ee14-9512-430a-92ac-abe4b3632100');\n",
              "        const dataTable =\n",
              "          await google.colab.kernel.invokeFunction('convertToInteractive',\n",
              "                                                    [key], {});\n",
              "        if (!dataTable) return;\n",
              "\n",
              "        const docLinkHtml = 'Like what you see? Visit the ' +\n",
              "          '<a target=\"_blank\" href=https://colab.research.google.com/notebooks/data_table.ipynb>data table notebook</a>'\n",
              "          + ' to learn more about interactive tables.';\n",
              "        element.innerHTML = '';\n",
              "        dataTable['output_type'] = 'display_data';\n",
              "        await google.colab.output.renderOutput(dataTable, element);\n",
              "        const docLink = document.createElement('div');\n",
              "        docLink.innerHTML = docLinkHtml;\n",
              "        element.appendChild(docLink);\n",
              "      }\n",
              "    </script>\n",
              "  </div>\n",
              "\n",
              "\n",
              "<div id=\"df-4b0f3128-eaa8-4104-810b-bda67ca35084\">\n",
              "  <button class=\"colab-df-quickchart\" onclick=\"quickchart('df-4b0f3128-eaa8-4104-810b-bda67ca35084')\"\n",
              "            title=\"Suggest charts\"\n",
              "            style=\"display:none;\">\n",
              "\n",
              "<svg xmlns=\"http://www.w3.org/2000/svg\" height=\"24px\"viewBox=\"0 0 24 24\"\n",
              "     width=\"24px\">\n",
              "    <g>\n",
              "        <path d=\"M19 3H5c-1.1 0-2 .9-2 2v14c0 1.1.9 2 2 2h14c1.1 0 2-.9 2-2V5c0-1.1-.9-2-2-2zM9 17H7v-7h2v7zm4 0h-2V7h2v10zm4 0h-2v-4h2v4z\"/>\n",
              "    </g>\n",
              "</svg>\n",
              "  </button>\n",
              "\n",
              "<style>\n",
              "  .colab-df-quickchart {\n",
              "      --bg-color: #E8F0FE;\n",
              "      --fill-color: #1967D2;\n",
              "      --hover-bg-color: #E2EBFA;\n",
              "      --hover-fill-color: #174EA6;\n",
              "      --disabled-fill-color: #AAA;\n",
              "      --disabled-bg-color: #DDD;\n",
              "  }\n",
              "\n",
              "  [theme=dark] .colab-df-quickchart {\n",
              "      --bg-color: #3B4455;\n",
              "      --fill-color: #D2E3FC;\n",
              "      --hover-bg-color: #434B5C;\n",
              "      --hover-fill-color: #FFFFFF;\n",
              "      --disabled-bg-color: #3B4455;\n",
              "      --disabled-fill-color: #666;\n",
              "  }\n",
              "\n",
              "  .colab-df-quickchart {\n",
              "    background-color: var(--bg-color);\n",
              "    border: none;\n",
              "    border-radius: 50%;\n",
              "    cursor: pointer;\n",
              "    display: none;\n",
              "    fill: var(--fill-color);\n",
              "    height: 32px;\n",
              "    padding: 0;\n",
              "    width: 32px;\n",
              "  }\n",
              "\n",
              "  .colab-df-quickchart:hover {\n",
              "    background-color: var(--hover-bg-color);\n",
              "    box-shadow: 0 1px 2px rgba(60, 64, 67, 0.3), 0 1px 3px 1px rgba(60, 64, 67, 0.15);\n",
              "    fill: var(--button-hover-fill-color);\n",
              "  }\n",
              "\n",
              "  .colab-df-quickchart-complete:disabled,\n",
              "  .colab-df-quickchart-complete:disabled:hover {\n",
              "    background-color: var(--disabled-bg-color);\n",
              "    fill: var(--disabled-fill-color);\n",
              "    box-shadow: none;\n",
              "  }\n",
              "\n",
              "  .colab-df-spinner {\n",
              "    border: 2px solid var(--fill-color);\n",
              "    border-color: transparent;\n",
              "    border-bottom-color: var(--fill-color);\n",
              "    animation:\n",
              "      spin 1s steps(1) infinite;\n",
              "  }\n",
              "\n",
              "  @keyframes spin {\n",
              "    0% {\n",
              "      border-color: transparent;\n",
              "      border-bottom-color: var(--fill-color);\n",
              "      border-left-color: var(--fill-color);\n",
              "    }\n",
              "    20% {\n",
              "      border-color: transparent;\n",
              "      border-left-color: var(--fill-color);\n",
              "      border-top-color: var(--fill-color);\n",
              "    }\n",
              "    30% {\n",
              "      border-color: transparent;\n",
              "      border-left-color: var(--fill-color);\n",
              "      border-top-color: var(--fill-color);\n",
              "      border-right-color: var(--fill-color);\n",
              "    }\n",
              "    40% {\n",
              "      border-color: transparent;\n",
              "      border-right-color: var(--fill-color);\n",
              "      border-top-color: var(--fill-color);\n",
              "    }\n",
              "    60% {\n",
              "      border-color: transparent;\n",
              "      border-right-color: var(--fill-color);\n",
              "    }\n",
              "    80% {\n",
              "      border-color: transparent;\n",
              "      border-right-color: var(--fill-color);\n",
              "      border-bottom-color: var(--fill-color);\n",
              "    }\n",
              "    90% {\n",
              "      border-color: transparent;\n",
              "      border-bottom-color: var(--fill-color);\n",
              "    }\n",
              "  }\n",
              "</style>\n",
              "\n",
              "  <script>\n",
              "    async function quickchart(key) {\n",
              "      const quickchartButtonEl =\n",
              "        document.querySelector('#' + key + ' button');\n",
              "      quickchartButtonEl.disabled = true;  // To prevent multiple clicks.\n",
              "      quickchartButtonEl.classList.add('colab-df-spinner');\n",
              "      try {\n",
              "        const charts = await google.colab.kernel.invokeFunction(\n",
              "            'suggestCharts', [key], {});\n",
              "      } catch (error) {\n",
              "        console.error('Error during call to suggestCharts:', error);\n",
              "      }\n",
              "      quickchartButtonEl.classList.remove('colab-df-spinner');\n",
              "      quickchartButtonEl.classList.add('colab-df-quickchart-complete');\n",
              "    }\n",
              "    (() => {\n",
              "      let quickchartButtonEl =\n",
              "        document.querySelector('#df-4b0f3128-eaa8-4104-810b-bda67ca35084 button');\n",
              "      quickchartButtonEl.style.display =\n",
              "        google.colab.kernel.accessAllowed ? 'block' : 'none';\n",
              "    })();\n",
              "  </script>\n",
              "</div>\n",
              "    </div>\n",
              "  </div>\n"
            ]
          },
          "metadata": {},
          "execution_count": 4
        }
      ],
      "source": [
        "df.describe()"
      ]
    },
    {
      "cell_type": "markdown",
      "source": [
        "A primeira análise consiste em gerar a descrição estatística para o banco de dados. Pela média e mediana de cada um dos atributos é perceptível a diferença de escala entre eles."
      ],
      "metadata": {
        "id": "aHV3K2s7yoLZ"
      },
      "id": "aHV3K2s7yoLZ"
    },
    {
      "cell_type": "code",
      "execution_count": 5,
      "id": "b716d35c",
      "metadata": {
        "colab": {
          "base_uri": "https://localhost:8080/",
          "height": 661
        },
        "id": "b716d35c",
        "outputId": "66d6f4e7-83cc-4eae-c836-cde1cf1aeca5"
      },
      "outputs": [
        {
          "output_type": "execute_result",
          "data": {
            "text/plain": [
              "<Axes: >"
            ]
          },
          "metadata": {},
          "execution_count": 5
        },
        {
          "output_type": "display_data",
          "data": {
            "text/plain": [
              "<Figure size 800x600 with 2 Axes>"
            ],
            "image/png": "[encoded data removed]"
          },
          "metadata": {}
        }
      ],
      "source": [
        "matriz_corr = X.corr(numeric_only=True)\n",
        "sns.heatmap(matriz_corr,annot=True,cmap=\"crest\")"
      ]
    },
    {
      "cell_type": "markdown",
      "source": [
        "Para visualizar como os atributos do banco de dados estão relacionados decide-se plotar o mapa de calor da matriz de correlação."
      ],
      "metadata": {
        "id": "uMKfC1pRz7tT"
      },
      "id": "uMKfC1pRz7tT"
    },
    {
      "cell_type": "markdown",
      "source": [
        "##### Geração do boxplot para todos os atributos."
      ],
      "metadata": {
        "id": "ztywYwt53SJ1"
      },
      "id": "ztywYwt53SJ1"
    },
    {
      "cell_type": "code",
      "source": [
        "sns.boxplot(data=df, y=df.Area,x=df.Class)"
      ],
      "metadata": {
        "colab": {
          "base_uri": "https://localhost:8080/",
          "height": 564
        },
        "id": "O4oCpz0H2MC1",
        "outputId": "b7b8d286-2ba1-4060-c4f1-f6c67f16715a"
      },
      "id": "O4oCpz0H2MC1",
      "execution_count": 6,
      "outputs": [
        {
          "output_type": "execute_result",
          "data": {
            "text/plain": [
              "<Axes: xlabel='Class', ylabel='Area'>"
            ]
          },
          "metadata": {},
          "execution_count": 6
        },
        {
          "output_type": "display_data",
          "data": {
            "text/plain": [
              "<Figure size 800x600 with 1 Axes>"
            ],
            "image/png": "[encoded data removed]"
          },
          "metadata": {}
        }
      ]
    },
    {
      "cell_type": "markdown",
      "source": [
        "Continuar texto boxplot"
      ],
      "metadata": {
        "id": "aznP88094FEG"
      },
      "id": "aznP88094FEG"
    },
    {
      "cell_type": "markdown",
      "source": [
        "Devido à diferença de escala entre os atributos utiliza-se a normalização min-max no conjunto de dados."
      ],
      "metadata": {
        "id": "VxLmkomm3hQi"
      },
      "id": "VxLmkomm3hQi"
    },
    {
      "cell_type": "code",
      "source": [
        "scaler = MinMaxScaler(feature_range = (0,1))\n",
        "X_norm = scaler.fit_transform(X,y)"
      ],
      "metadata": {
        "id": "tNqecjFV3amh"
      },
      "id": "tNqecjFV3amh",
      "execution_count": 7,
      "outputs": []
    },
    {
      "cell_type": "markdown",
      "source": [
        "Em relação ao atributo alvo, é necessário aplicar uma conversão simbólico-numérico nos dados para trabalhar com o classificador MLP."
      ],
      "metadata": {
        "id": "lCixliV-4iRG"
      },
      "id": "lCixliV-4iRG"
    },
    {
      "cell_type": "code",
      "source": [
        "label_encoder = LabelEncoder()\n",
        "y_numerico = label_encoder.fit_transform(y)"
      ],
      "metadata": {
        "colab": {
          "base_uri": "https://localhost:8080/"
        },
        "id": "O7dtHMp23yTc",
        "outputId": "8d1f9aaa-7a29-421a-e5ef-379a7db0cb69"
      },
      "id": "O7dtHMp23yTc",
      "execution_count": 8,
      "outputs": [
        {
          "output_type": "stream",
          "name": "stderr",
          "text": [
            "/usr/local/lib/python3.10/dist-packages/sklearn/preprocessing/_label.py:116: DataConversionWarning: A column-vector y was passed when a 1d array was expected. Please change the shape of y to (n_samples, ), for example using ravel().\n",
            "  y = column_or_1d(y, warn=True)\n"
          ]
        }
      ]
    },
    {
      "cell_type": "markdown",
      "source": [
        "Separação do banco de dados nos conjuntos de teste e treinamento."
      ],
      "metadata": {
        "id": "vZIasSgZ71pe"
      },
      "id": "vZIasSgZ71pe"
    },
    {
      "cell_type": "code",
      "source": [
        "X_train, X_test, y_train, y_test = train_test_split(X_norm, y_numerico,test_size= 0.3,random_state=2)"
      ],
      "metadata": {
        "id": "wV4NVcr55yj6"
      },
      "id": "wV4NVcr55yj6",
      "execution_count": 9,
      "outputs": []
    },
    {
      "cell_type": "markdown",
      "source": [
        "Distribuição dos dados:"
      ],
      "metadata": {
        "id": "DrDSFK9vV0CT"
      },
      "id": "DrDSFK9vV0CT"
    },
    {
      "cell_type": "code",
      "source": [
        "print(\"Quantidade de dados de treino: \", len(X_train))\n",
        "print(\"Quantidade de dados de teste: \", len(X_test))\n",
        "\n",
        "print(\"Quantidade de dados de treino e atributos: \", X_train.shape)\n",
        "print(\"Quantidade de dados de teste e atributos: \", X_test.shape)\n",
        "\n",
        "print(\"Quantidade de saídas de treino e colunas: \", y_train.shape)\n",
        "print(\"Quantidade de saídas de teste e colunas: \", y_test.shape)\n"
      ],
      "metadata": {
        "colab": {
          "base_uri": "https://localhost:8080/"
        },
        "id": "AAczdAT9Us7B",
        "outputId": "86466f99-38cd-48cf-b704-1fdc001ede82"
      },
      "id": "AAczdAT9Us7B",
      "execution_count": 13,
      "outputs": [
        {
          "output_type": "stream",
          "name": "stdout",
          "text": [
            "Quantidade de dados de treino:  2667\n",
            "Quantidade de dados de teste:  1143\n",
            "Quantidade de dados de treino e atributos:  (2667, 7)\n",
            "Quantidade de dados de teste e atributos:  (1143, 7)\n",
            "Quantidade de saídas de treino e colunas:  (2667,)\n",
            "Quantidade de saídas de teste e colunas:  (1143,)\n"
          ]
        }
      ]
    },
    {
      "cell_type": "markdown",
      "source": [
        "#### Inicialização do modelo MLP."
      ],
      "metadata": {
        "id": "yqzer1OwYipG"
      },
      "id": "yqzer1OwYipG"
    },
    {
      "cell_type": "code",
      "source": [
        "mlp_clf = MLPClassifier(random_state=2, max_iter=300).fit(X_train, y_train)"
      ],
      "metadata": {
        "id": "rRmbPwiE6klS"
      },
      "id": "rRmbPwiE6klS",
      "execution_count": 14,
      "outputs": []
    },
    {
      "cell_type": "markdown",
      "source": [
        "O modelo utilizado consiste num classificador Multilayer Perceptron(MLP) de duas camadas: uma oculta e uma de saída.\n",
        "A função GridSearchCV do scikit-learn é utilizada para escolher o número de neurônios na camada oculta que resulta na melhor acucária entre as seguintes opções:\n",
        "\n",
        "Camada oculta com 50, 60, 75, 90 ou 100 neurônios.\n"
      ],
      "metadata": {
        "id": "QyeiwV1sYtWn"
      },
      "id": "QyeiwV1sYtWn"
    },
    {
      "cell_type": "code",
      "source": [
        "param_grid = {\n",
        "    'hidden_layer_sizes': [(50,),(60,),(75,),(90,),(100,)]\n",
        "}\n",
        "\n",
        "grid_search = GridSearchCV(mlp_clf, param_grid, cv=10, scoring='accuracy', n_jobs=-1)\n",
        "grid_search.fit(X_train, y_train)\n",
        "print(\"Número de neurônios que resulta na maior acucária:\", grid_search.best_params_)\n",
        "print(\"Acucária máxima:\",grid_search.best_score_ )"
      ],
      "metadata": {
        "colab": {
          "base_uri": "https://localhost:8080/"
        },
        "id": "I8T4WWsCaKmW",
        "outputId": "a1f7416e-adeb-471a-d1fe-c640cce45e98"
      },
      "id": "I8T4WWsCaKmW",
      "execution_count": 22,
      "outputs": [
        {
          "output_type": "stream",
          "name": "stdout",
          "text": [
            "Número de neurônios que resulta na maior acucária: {'hidden_layer_sizes': (60,)}\n",
            "Acucária máxima 0.9309960293993409\n"
          ]
        }
      ]
    },
    {
      "cell_type": "code",
      "source": [
        "print(grid_search.cv_results_['mean_test_score'])"
      ],
      "metadata": {
        "colab": {
          "base_uri": "https://localhost:8080/"
        },
        "id": "2NrwPliSc0Za",
        "outputId": "9fa70e41-8143-435c-f15c-4b3d72024736"
      },
      "id": "2NrwPliSc0Za",
      "execution_count": 21,
      "outputs": [
        {
          "output_type": "stream",
          "name": "stdout",
          "text": [
            "[0.93062009 0.93099603 0.92799273 0.92611726 0.93099603]\n"
          ]
        }
      ]
    },
    {
      "cell_type": "markdown",
      "source": [
        "A acurácia máxima alcançada foi com uma camada oculta de 60 neurônios. Portanto, o MLP empregado adotará esse valor como hiperparâmetro."
      ],
      "metadata": {
        "id": "W6TFWctZd9qT"
      },
      "id": "W6TFWctZd9qT"
    },
    {
      "cell_type": "code",
      "source": [
        "mlp_clf = MLPClassifier(hidden_layer_sizes=(60,),random_state=2, max_iter=300).fit(X_train, y_train)"
      ],
      "metadata": {
        "id": "GSURwC7weH1c"
      },
      "id": "GSURwC7weH1c",
      "execution_count": 23,
      "outputs": []
    },
    {
      "cell_type": "code",
      "source": [
        "mlp_clf.fit(X_train,y_train)"
      ],
      "metadata": {
        "colab": {
          "base_uri": "https://localhost:8080/",
          "height": 75
        },
        "id": "fjAYGXih6n_6",
        "outputId": "98f966ad-7d48-4646-8d91-b36003cba8be"
      },
      "id": "fjAYGXih6n_6",
      "execution_count": 24,
      "outputs": [
        {
          "output_type": "execute_result",
          "data": {
            "text/plain": [
              "MLPClassifier(hidden_layer_sizes=(60,), max_iter=300, random_state=2)"
            ],
            "text/html": [
              "<style>#sk-container-id-1 {color: black;background-color: white;}#sk-container-id-1 pre{padding: 0;}#sk-container-id-1 div.sk-toggleable {background-color: white;}#sk-container-id-1 label.sk-toggleable__label {cursor: pointer;display: block;width: 100%;margin-bottom: 0;padding: 0.3em;box-sizing: border-box;text-align: center;}#sk-container-id-1 label.sk-toggleable__label-arrow:before {content: \"▸\";float: left;margin-right: 0.25em;color: #696969;}#sk-container-id-1 label.sk-toggleable__label-arrow:hover:before {color: black;}#sk-container-id-1 div.sk-estimator:hover label.sk-toggleable__label-arrow:before {color: black;}#sk-container-id-1 div.sk-toggleable__content {max-height: 0;max-width: 0;overflow: hidden;text-align: left;background-color: #f0f8ff;}#sk-container-id-1 div.sk-toggleable__content pre {margin: 0.2em;color: black;border-radius: 0.25em;background-color: #f0f8ff;}#sk-container-id-1 input.sk-toggleable__control:checked~div.sk-toggleable__content {max-height: 200px;max-width: 100%;overflow: auto;}#sk-container-id-1 input.sk-toggleable__control:checked~label.sk-toggleable__label-arrow:before {content: \"▾\";}#sk-container-id-1 div.sk-estimator input.sk-toggleable__control:checked~label.sk-toggleable__label {background-color: #d4ebff;}#sk-container-id-1 div.sk-label input.sk-toggleable__control:checked~label.sk-toggleable__label {background-color: #d4ebff;}#sk-container-id-1 input.sk-hidden--visually {border: 0;clip: rect(1px 1px 1px 1px);clip: rect(1px, 1px, 1px, 1px);height: 1px;margin: -1px;overflow: hidden;padding: 0;position: absolute;width: 1px;}#sk-container-id-1 div.sk-estimator {font-family: monospace;background-color: #f0f8ff;border: 1px dotted black;border-radius: 0.25em;box-sizing: border-box;margin-bottom: 0.5em;}#sk-container-id-1 div.sk-estimator:hover {background-color: #d4ebff;}#sk-container-id-1 div.sk-parallel-item::after {content: \"\";width: 100%;border-bottom: 1px solid gray;flex-grow: 1;}#sk-container-id-1 div.sk-label:hover label.sk-toggleable__label {background-color: #d4ebff;}#sk-container-id-1 div.sk-serial::before {content: \"\";position: absolute;border-left: 1px solid gray;box-sizing: border-box;top: 0;bottom: 0;left: 50%;z-index: 0;}#sk-container-id-1 div.sk-serial {display: flex;flex-direction: column;align-items: center;background-color: white;padding-right: 0.2em;padding-left: 0.2em;position: relative;}#sk-container-id-1 div.sk-item {position: relative;z-index: 1;}#sk-container-id-1 div.sk-parallel {display: flex;align-items: stretch;justify-content: center;background-color: white;position: relative;}#sk-container-id-1 div.sk-item::before, #sk-container-id-1 div.sk-parallel-item::before {content: \"\";position: absolute;border-left: 1px solid gray;box-sizing: border-box;top: 0;bottom: 0;left: 50%;z-index: -1;}#sk-container-id-1 div.sk-parallel-item {display: flex;flex-direction: column;z-index: 1;position: relative;background-color: white;}#sk-container-id-1 div.sk-parallel-item:first-child::after {align-self: flex-end;width: 50%;}#sk-container-id-1 div.sk-parallel-item:last-child::after {align-self: flex-start;width: 50%;}#sk-container-id-1 div.sk-parallel-item:only-child::after {width: 0;}#sk-container-id-1 div.sk-dashed-wrapped {border: 1px dashed gray;margin: 0 0.4em 0.5em 0.4em;box-sizing: border-box;padding-bottom: 0.4em;background-color: white;}#sk-container-id-1 div.sk-label label {font-family: monospace;font-weight: bold;display: inline-block;line-height: 1.2em;}#sk-container-id-1 div.sk-label-container {text-align: center;}#sk-container-id-1 div.sk-container {/* jupyter's `normalize.less` sets `[hidden] { display: none; }` but bootstrap.min.css set `[hidden] { display: none !important; }` so we also need the `!important` here to be able to override the default hidden behavior on the sphinx rendered scikit-learn.org. See: https://github.com/scikit-learn/scikit-learn/issues/21755 */display: inline-block !important;position: relative;}#sk-container-id-1 div.sk-text-repr-fallback {display: none;}</style><div id=\"sk-container-id-1\" class=\"sk-top-container\"><div class=\"sk-text-repr-fallback\"><pre>MLPClassifier(hidden_layer_sizes=(60,), max_iter=300, random_state=2)</pre><b>In a Jupyter environment, please rerun this cell to show the HTML representation or trust the notebook. <br />On GitHub, the HTML representation is unable to render, please try loading this page with nbviewer.org.</b></div><div class=\"sk-container\" hidden><div class=\"sk-item\"><div class=\"sk-estimator sk-toggleable\"><input class=\"sk-toggleable__control sk-hidden--visually\" id=\"sk-estimator-id-1\" type=\"checkbox\" checked><label for=\"sk-estimator-id-1\" class=\"sk-toggleable__label sk-toggleable__label-arrow\">MLPClassifier</label><div class=\"sk-toggleable__content\"><pre>MLPClassifier(hidden_layer_sizes=(60,), max_iter=300, random_state=2)</pre></div></div></div></div></div>"
            ]
          },
          "metadata": {},
          "execution_count": 24
        }
      ]
    },
    {
      "cell_type": "markdown",
      "source": [
        "#### Avaliação da perfomance do modelo."
      ],
      "metadata": {
        "id": "CVghulfpgySA"
      },
      "id": "CVghulfpgySA"
    },
    {
      "cell_type": "markdown",
      "source": [
        "A primeira avaliação do modelo realizada é a validação cruzada k-fold com a divisão em 10 subconjuntos."
      ],
      "metadata": {
        "id": "sygqsrong9RQ"
      },
      "id": "sygqsrong9RQ"
    },
    {
      "cell_type": "code",
      "source": [
        "score_val_cruzada_mlp = cross_val_score(mlp_clf, X_train, y_train, cv=10)"
      ],
      "metadata": {
        "id": "w-JsNpes60SS"
      },
      "id": "w-JsNpes60SS",
      "execution_count": 29,
      "outputs": []
    },
    {
      "cell_type": "code",
      "source": [
        "np.mean(score_val_cruzada_mlp)"
      ],
      "metadata": {
        "colab": {
          "base_uri": "https://localhost:8080/"
        },
        "id": "Em-MwBkgeah9",
        "outputId": "35eede86-2064-42cb-eda3-d75cdfecaea3"
      },
      "id": "Em-MwBkgeah9",
      "execution_count": 30,
      "outputs": [
        {
          "output_type": "execute_result",
          "data": {
            "text/plain": [
              "0.9309960293993409"
            ]
          },
          "metadata": {},
          "execution_count": 30
        }
      ]
    },
    {
      "cell_type": "markdown",
      "source": [
        "A acurácia média obtida para o modelo com a validação cruzada 10-fold é de 93%."
      ],
      "metadata": {
        "id": "QId-fY_-hH81"
      },
      "id": "QId-fY_-hH81"
    },
    {
      "cell_type": "markdown",
      "source": [
        "Para realizar comparações de perfomance, utiliza-se o Classificador Dummy no conjunto de dados, a fim de estabelecer uma referência inicial para o desempenho."
      ],
      "metadata": {
        "id": "s_-rgNpZiFKW"
      },
      "id": "s_-rgNpZiFKW"
    },
    {
      "cell_type": "code",
      "source": [
        "dummy_clf = DummyClassifier(random_state=2)"
      ],
      "metadata": {
        "id": "wU8bcMBf7Z29"
      },
      "id": "wU8bcMBf7Z29",
      "execution_count": 31,
      "outputs": []
    },
    {
      "cell_type": "code",
      "source": [
        "dummy_clf.fit(X_train,y_train)"
      ],
      "metadata": {
        "colab": {
          "base_uri": "https://localhost:8080/",
          "height": 75
        },
        "id": "PMxjj-CK7bDB",
        "outputId": "644ea4ae-8c48-4b41-88e9-814aa09933de"
      },
      "id": "PMxjj-CK7bDB",
      "execution_count": 32,
      "outputs": [
        {
          "output_type": "execute_result",
          "data": {
            "text/plain": [
              "DummyClassifier(random_state=2)"
            ],
            "text/html": [
              "<style>#sk-container-id-2 {color: black;background-color: white;}#sk-container-id-2 pre{padding: 0;}#sk-container-id-2 div.sk-toggleable {background-color: white;}#sk-container-id-2 label.sk-toggleable__label {cursor: pointer;display: block;width: 100%;margin-bottom: 0;padding: 0.3em;box-sizing: border-box;text-align: center;}#sk-container-id-2 label.sk-toggleable__label-arrow:before {content: \"▸\";float: left;margin-right: 0.25em;color: #696969;}#sk-container-id-2 label.sk-toggleable__label-arrow:hover:before {color: black;}#sk-container-id-2 div.sk-estimator:hover label.sk-toggleable__label-arrow:before {color: black;}#sk-container-id-2 div.sk-toggleable__content {max-height: 0;max-width: 0;overflow: hidden;text-align: left;background-color: #f0f8ff;}#sk-container-id-2 div.sk-toggleable__content pre {margin: 0.2em;color: black;border-radius: 0.25em;background-color: #f0f8ff;}#sk-container-id-2 input.sk-toggleable__control:checked~div.sk-toggleable__content {max-height: 200px;max-width: 100%;overflow: auto;}#sk-container-id-2 input.sk-toggleable__control:checked~label.sk-toggleable__label-arrow:before {content: \"▾\";}#sk-container-id-2 div.sk-estimator input.sk-toggleable__control:checked~label.sk-toggleable__label {background-color: #d4ebff;}#sk-container-id-2 div.sk-label input.sk-toggleable__control:checked~label.sk-toggleable__label {background-color: #d4ebff;}#sk-container-id-2 input.sk-hidden--visually {border: 0;clip: rect(1px 1px 1px 1px);clip: rect(1px, 1px, 1px, 1px);height: 1px;margin: -1px;overflow: hidden;padding: 0;position: absolute;width: 1px;}#sk-container-id-2 div.sk-estimator {font-family: monospace;background-color: #f0f8ff;border: 1px dotted black;border-radius: 0.25em;box-sizing: border-box;margin-bottom: 0.5em;}#sk-container-id-2 div.sk-estimator:hover {background-color: #d4ebff;}#sk-container-id-2 div.sk-parallel-item::after {content: \"\";width: 100%;border-bottom: 1px solid gray;flex-grow: 1;}#sk-container-id-2 div.sk-label:hover label.sk-toggleable__label {background-color: #d4ebff;}#sk-container-id-2 div.sk-serial::before {content: \"\";position: absolute;border-left: 1px solid gray;box-sizing: border-box;top: 0;bottom: 0;left: 50%;z-index: 0;}#sk-container-id-2 div.sk-serial {display: flex;flex-direction: column;align-items: center;background-color: white;padding-right: 0.2em;padding-left: 0.2em;position: relative;}#sk-container-id-2 div.sk-item {position: relative;z-index: 1;}#sk-container-id-2 div.sk-parallel {display: flex;align-items: stretch;justify-content: center;background-color: white;position: relative;}#sk-container-id-2 div.sk-item::before, #sk-container-id-2 div.sk-parallel-item::before {content: \"\";position: absolute;border-left: 1px solid gray;box-sizing: border-box;top: 0;bottom: 0;left: 50%;z-index: -1;}#sk-container-id-2 div.sk-parallel-item {display: flex;flex-direction: column;z-index: 1;position: relative;background-color: white;}#sk-container-id-2 div.sk-parallel-item:first-child::after {align-self: flex-end;width: 50%;}#sk-container-id-2 div.sk-parallel-item:last-child::after {align-self: flex-start;width: 50%;}#sk-container-id-2 div.sk-parallel-item:only-child::after {width: 0;}#sk-container-id-2 div.sk-dashed-wrapped {border: 1px dashed gray;margin: 0 0.4em 0.5em 0.4em;box-sizing: border-box;padding-bottom: 0.4em;background-color: white;}#sk-container-id-2 div.sk-label label {font-family: monospace;font-weight: bold;display: inline-block;line-height: 1.2em;}#sk-container-id-2 div.sk-label-container {text-align: center;}#sk-container-id-2 div.sk-container {/* jupyter's `normalize.less` sets `[hidden] { display: none; }` but bootstrap.min.css set `[hidden] { display: none !important; }` so we also need the `!important` here to be able to override the default hidden behavior on the sphinx rendered scikit-learn.org. See: https://github.com/scikit-learn/scikit-learn/issues/21755 */display: inline-block !important;position: relative;}#sk-container-id-2 div.sk-text-repr-fallback {display: none;}</style><div id=\"sk-container-id-2\" class=\"sk-top-container\"><div class=\"sk-text-repr-fallback\"><pre>DummyClassifier(random_state=2)</pre><b>In a Jupyter environment, please rerun this cell to show the HTML representation or trust the notebook. <br />On GitHub, the HTML representation is unable to render, please try loading this page with nbviewer.org.</b></div><div class=\"sk-container\" hidden><div class=\"sk-item\"><div class=\"sk-estimator sk-toggleable\"><input class=\"sk-toggleable__control sk-hidden--visually\" id=\"sk-estimator-id-2\" type=\"checkbox\" checked><label for=\"sk-estimator-id-2\" class=\"sk-toggleable__label sk-toggleable__label-arrow\">DummyClassifier</label><div class=\"sk-toggleable__content\"><pre>DummyClassifier(random_state=2)</pre></div></div></div></div></div>"
            ]
          },
          "metadata": {},
          "execution_count": 32
        }
      ]
    },
    {
      "cell_type": "code",
      "source": [
        "score_val_cruzada_dummy = cross_val_score(dummy_clf, X_train, y_train, cv=10)"
      ],
      "metadata": {
        "id": "yNXcy4xr7dd5"
      },
      "id": "yNXcy4xr7dd5",
      "execution_count": 35,
      "outputs": []
    },
    {
      "cell_type": "code",
      "source": [
        "np.mean(score_val_cruzada_dummy)"
      ],
      "metadata": {
        "colab": {
          "base_uri": "https://localhost:8080/"
        },
        "id": "Cze_eHofiUfe",
        "outputId": "316256f4-75c5-4f1b-8a70-9a0ff0d13d50"
      },
      "id": "Cze_eHofiUfe",
      "execution_count": 36,
      "outputs": [
        {
          "output_type": "execute_result",
          "data": {
            "text/plain": [
              "0.5665554335276394"
            ]
          },
          "metadata": {},
          "execution_count": 36
        }
      ]
    },
    {
      "cell_type": "markdown",
      "source": [
        "A acurácia média obtida para o modelo dummy com a validação cruzada 10-fold é de 56,66%. Portanto, o modelo Multilayer perceptron utilizado no trabalho é sigficativamente melhor que o classificador dummy."
      ],
      "metadata": {
        "id": "JO_s18wiiaej"
      },
      "id": "JO_s18wiiaej"
    },
    {
      "cell_type": "code",
      "source": [],
      "metadata": {
        "id": "Sv7n3UzPigOX"
      },
      "id": "Sv7n3UzPigOX",
      "execution_count": null,
      "outputs": []
    }
  ],
  "metadata": {
    "kernelspec": {
      "display_name": "Python 3 (ipykernel)",
      "language": "python",
      "name": "python3"
    },
    "language_info": {
      "codemirror_mode": {
        "name": "ipython",
        "version": 3
      },
      "file_extension": ".py",
      "mimetype": "text/x-python",
      "name": "python",
      "nbconvert_exporter": "python",
      "pygments_lexer": "ipython3",
      "version": "3.11.5"
    },
    "colab": {
      "provenance": []
    }
  },
  "nbformat": 4,
  "nbformat_minor": 5
}